{
 "cells": [
  {
   "cell_type": "code",
   "execution_count": 1,
   "metadata": {
    "collapsed": true
   },
   "outputs": [],
   "source": [
    "warnings=\"\"\"\n",
    "Warning 6: Normalized/laundered field name: 'SAFStreetName' to 'SAFStreetN'\n",
    "Warning 6: Normalized/laundered field name: 'SAFStreetCode' to 'SAFStreetC'\n",
    "Warning 6: Normalized/laundered field name: 'LATOMICPOLYGON' to 'LATOMICPOL'\n",
    "Warning 6: Normalized/laundered field name: 'RATOMICPOLYGON' to 'RATOMICPOL'\n",
    "Warning 6: Normalized/laundered field name: 'LBlockFaceID' to 'LBlockFace'\n",
    "Warning 6: Normalized/laundered field name: 'RBlockFaceID' to 'RBlockFace'\n",
    "Warning 6: Normalized/laundered field name: 'StreetWidth_Min' to 'StreetWidt'\n",
    "Warning 6: Normalized/laundered field name: 'StreetWidth_Max' to 'StreetWi_1'\n",
    "Warning 6: Normalized/laundered field name: 'StreetWidth_Irr' to 'StreetWi_2'\n",
    "Warning 6: Normalized/laundered field name: 'BIKE_TRAFDIR' to 'BIKE_TRAFD'\n",
    "Warning 6: Normalized/laundered field name: 'ACTIVE_FLAG' to 'ACTIVE_FLA'\n",
    "Warning 6: Normalized/laundered field name: 'POSTED_SPEED' to 'POSTED_SPE'\n",
    "Warning 6: Normalized/laundered field name: 'Snow_Priority' to 'Snow_Prior'\n",
    "Warning 6: Normalized/laundered field name: 'Number_Travel_Lanes' to 'Number_Tra'\n",
    "Warning 6: Normalized/laundered field name: 'Number_Park_Lanes' to 'Number_Par'\n",
    "Warning 6: Normalized/laundered field name: 'Number_Total_Lanes' to 'Number_Tot'\n",
    "Warning 6: Normalized/laundered field name: 'Carto_Display_Level' to 'Carto_Disp'\n",
    "Warning 6: Normalized/laundered field name: 'SHAPE_Length' to 'SHAPE_Leng'\n",
    "\"\"\".split(\"\\n\")\n",
    "import re\n",
    "froms_tos = [tuple(re.findall('\\w+', w.strip().split(\":\")[-1])[::2]) for w in warnings if w]"
   ]
  },
  {
   "cell_type": "code",
   "execution_count": 2,
   "metadata": {
    "collapsed": true
   },
   "outputs": [],
   "source": [
    "import geopandas as gpd\n",
    "import geopy\n",
    "import geopy.distance\n",
    "import pandas as pd\n",
    "import matplotlib \n",
    "import networkx as nx\n",
    "import numpy as np\n",
    "%matplotlib inline\n",
    "pd.options.display.max_columns = None\n",
    "\n",
    "def uniform_str(x):\n",
    "    strd = str(x)\n",
    "    while len(strd) < 7:\n",
    "        strd = '0' + strd\n",
    "    return strd\n"
   ]
  },
  {
   "cell_type": "code",
   "execution_count": null,
   "metadata": {
    "collapsed": true
   },
   "outputs": [],
   "source": [
    "manhattan_lines = gpd.read_file(\"data/mn_lines.shp\")\n",
    "manhattan_nodes = gpd.read_file(\"data/mn_nodes.shp\")"
   ]
  },
  {
   "cell_type": "code",
   "execution_count": null,
   "metadata": {},
   "outputs": [],
   "source": [
    "manhattan_nodes[\"ID_STR\"] = manhattan_nodes[\"NODEID\"].apply(uniform_str)"
   ]
  },
  {
   "cell_type": "code",
   "execution_count": 3,
   "metadata": {},
   "outputs": [
    {
     "data": {
      "text/html": [
       "<div>\n",
       "<style scoped>\n",
       "    .dataframe tbody tr th:only-of-type {\n",
       "        vertical-align: middle;\n",
       "    }\n",
       "\n",
       "    .dataframe tbody tr th {\n",
       "        vertical-align: top;\n",
       "    }\n",
       "\n",
       "    .dataframe thead th {\n",
       "        text-align: right;\n",
       "    }\n",
       "</style>\n",
       "<table border=\"1\" class=\"dataframe\">\n",
       "  <thead>\n",
       "    <tr style=\"text-align: right;\">\n",
       "      <th></th>\n",
       "      <th>NODEID</th>\n",
       "      <th>VIntersect</th>\n",
       "      <th>geometry</th>\n",
       "      <th>ID_STR</th>\n",
       "    </tr>\n",
       "  </thead>\n",
       "  <tbody>\n",
       "    <tr>\n",
       "      <th>46072</th>\n",
       "      <td>48606</td>\n",
       "      <td></td>\n",
       "      <td>POINT (1010053.05149962 257493.4766098112)</td>\n",
       "      <td>0048606</td>\n",
       "    </tr>\n",
       "  </tbody>\n",
       "</table>\n",
       "</div>"
      ],
      "text/plain": [
       "       NODEID VIntersect                                    geometry   ID_STR\n",
       "46072   48606             POINT (1010053.05149962 257493.4766098112)  0048606"
      ]
     },
     "execution_count": 3,
     "metadata": {},
     "output_type": "execute_result"
    }
   ],
   "source": [
    "all_nodes = gpd.read_file(\"data/lion/lion.shp/node.shp\")\n",
    "all_nodes[\"ID_STR\"] = all_nodes[\"NODEID\"].apply(uniform_str)\n",
    "all_nodes[all_nodes[\"ID_STR\"] == \"0048606\"]"
   ]
  },
  {
   "cell_type": "code",
   "execution_count": 4,
   "metadata": {},
   "outputs": [],
   "source": [
    "nodes_by_id = all_nodes.set_index(\"ID_STR\")"
   ]
  },
  {
   "cell_type": "code",
   "execution_count": null,
   "metadata": {
    "collapsed": true
   },
   "outputs": [],
   "source": [
    "# manhattan_lines[\"BikeLane\"].unique()\n",
    "\n",
    "# pd.DataFrame(line).swapaxes(1, 0)"
   ]
  },
  {
   "cell_type": "code",
   "execution_count": null,
   "metadata": {
    "collapsed": true
   },
   "outputs": [],
   "source": [
    "g = nx.DiGraph()\n",
    "errors = []\n",
    "\n",
    "def dist_func(u, v):\n",
    "    u_n = nodes_by_id.loc[u]\n",
    "    u_coord = (u_n.geometry.x, u_n.geometry.y)\n",
    "    v_n = nodes_by_id.loc[v]\n",
    "    v_coord = (v_n.geometry.x, v_n.geometry.y)\n",
    "    dist = geopy.distance.vincenty(u_coord, v_coord).miles\n",
    "    return dist\n",
    "\n",
    "def handle_line(ix, line, graph):\n",
    "    code = line[\"TrafDir\"]\n",
    "    if code not in {\"W\", \"A\", \"T\"}:\n",
    "        return\n",
    "    \n",
    "    u = line[\"NodeIDFrom\"]\n",
    "    v = line[\"NodeIDTo\"]\n",
    "    dist = line[\"SHAPE_Leng\"] / 5280.\n",
    "    try:\n",
    "        speed = float(line[\"POSTED_SPE\"])\n",
    "    except:\n",
    "        errors.append(line[\"Street\"])\n",
    "        speed = 25.\n",
    "    attrs = {\"dist\": dist, \"speed\": speed, \"weight\": 60. * dist / speed, \"ix\": ix}\n",
    "    if code == \"W\":\n",
    "        # from -> to\n",
    "        g.add_edge(u, v, attrs)\n",
    "    elif code == \"A\":\n",
    "        # to -> from\n",
    "        g.add_edge(v, u, attrs)\n",
    "    elif code == \"T\":\n",
    "        # to <-> from\n",
    "        g.add_edge(u, v, attrs)\n",
    "        g.add_edge(v, u, attrs)\n",
    "\n",
    "        \n",
    "for ix, line in manhattan_lines.iterrows():\n",
    "    handle_line(ix, line, g)"
   ]
  },
  {
   "cell_type": "code",
   "execution_count": null,
   "metadata": {},
   "outputs": [],
   "source": [
    "f1 = manhattan_lines.iloc[0].NodeIDFrom\n",
    "f2 = manhattan_lines[manhattan_lines[\"Street\"].str.contains(\"FDR\")].iloc[0].NodeIDFrom\n",
    "path = nx.algorithms.shortest_path(g, f1, f2)\n",
    "path[0]\n",
    "f1 == path[0]"
   ]
  },
  {
   "cell_type": "code",
   "execution_count": null,
   "metadata": {},
   "outputs": [],
   "source": [
    "ax = nodes_by_id.loc[[f1, f2]].plot(figsize=(16, 9))\n",
    "for thing in path:\n",
    "    nodes_by_id.loc[[thing]].plot(ax=ax)"
   ]
  },
  {
   "cell_type": "code",
   "execution_count": null,
   "metadata": {
    "collapsed": true
   },
   "outputs": [],
   "source": [
    "nx.write_gpickle(g, \"data/init_graph.pkl\")"
   ]
  },
  {
   "cell_type": "code",
   "execution_count": 5,
   "metadata": {
    "scrolled": true
   },
   "outputs": [],
   "source": [
    "import networkx as nx\n",
    "g = nx.read_gpickle(\"data/init_graph.pkl\")"
   ]
  },
  {
   "cell_type": "code",
   "execution_count": 38,
   "metadata": {
    "collapsed": true
   },
   "outputs": [],
   "source": [
    "things = nx.algorithms.strongly_connected_components(g)"
   ]
  },
  {
   "cell_type": "code",
   "execution_count": 39,
   "metadata": {},
   "outputs": [
    {
     "data": {
      "text/plain": [
       "array([    1, 12263,   126,   113,    45,     3,     2])"
      ]
     },
     "execution_count": 39,
     "metadata": {},
     "output_type": "execute_result"
    }
   ],
   "source": [
    "pd.Series([len(t) for t in things]).unique()"
   ]
  },
  {
   "cell_type": "code",
   "execution_count": 12,
   "metadata": {},
   "outputs": [],
   "source": [
    "singletons = [t for t in things if len(t) == 1]"
   ]
  },
  {
   "cell_type": "code",
   "execution_count": 17,
   "metadata": {},
   "outputs": [
    {
     "data": {
      "text/plain": [
       "115"
      ]
     },
     "execution_count": 17,
     "metadata": {},
     "output_type": "execute_result"
    }
   ],
   "source": [
    "len(singletons)"
   ]
  },
  {
   "cell_type": "code",
   "execution_count": 16,
   "metadata": {
    "scrolled": false
   },
   "outputs": [
    {
     "data": {
      "text/plain": [
       "[<matplotlib.axes._subplots.AxesSubplot at 0x7f1c5daeae90>,\n",
       " <matplotlib.axes._subplots.AxesSubplot at 0x7f1c5daeae90>,\n",
       " <matplotlib.axes._subplots.AxesSubplot at 0x7f1c5daeae90>,\n",
       " <matplotlib.axes._subplots.AxesSubplot at 0x7f1c5daeae90>,\n",
       " <matplotlib.axes._subplots.AxesSubplot at 0x7f1c5daeae90>,\n",
       " <matplotlib.axes._subplots.AxesSubplot at 0x7f1c5daeae90>,\n",
       " <matplotlib.axes._subplots.AxesSubplot at 0x7f1c5daeae90>,\n",
       " <matplotlib.axes._subplots.AxesSubplot at 0x7f1c5daeae90>,\n",
       " <matplotlib.axes._subplots.AxesSubplot at 0x7f1c5daeae90>,\n",
       " <matplotlib.axes._subplots.AxesSubplot at 0x7f1c5daeae90>,\n",
       " <matplotlib.axes._subplots.AxesSubplot at 0x7f1c5daeae90>,\n",
       " <matplotlib.axes._subplots.AxesSubplot at 0x7f1c5daeae90>,\n",
       " <matplotlib.axes._subplots.AxesSubplot at 0x7f1c5daeae90>,\n",
       " <matplotlib.axes._subplots.AxesSubplot at 0x7f1c5daeae90>,\n",
       " <matplotlib.axes._subplots.AxesSubplot at 0x7f1c5daeae90>,\n",
       " <matplotlib.axes._subplots.AxesSubplot at 0x7f1c5daeae90>,\n",
       " <matplotlib.axes._subplots.AxesSubplot at 0x7f1c5daeae90>,\n",
       " <matplotlib.axes._subplots.AxesSubplot at 0x7f1c5daeae90>,\n",
       " <matplotlib.axes._subplots.AxesSubplot at 0x7f1c5daeae90>,\n",
       " <matplotlib.axes._subplots.AxesSubplot at 0x7f1c5daeae90>,\n",
       " <matplotlib.axes._subplots.AxesSubplot at 0x7f1c5daeae90>,\n",
       " <matplotlib.axes._subplots.AxesSubplot at 0x7f1c5daeae90>,\n",
       " <matplotlib.axes._subplots.AxesSubplot at 0x7f1c5daeae90>,\n",
       " <matplotlib.axes._subplots.AxesSubplot at 0x7f1c5daeae90>,\n",
       " <matplotlib.axes._subplots.AxesSubplot at 0x7f1c5daeae90>,\n",
       " <matplotlib.axes._subplots.AxesSubplot at 0x7f1c5daeae90>,\n",
       " <matplotlib.axes._subplots.AxesSubplot at 0x7f1c5daeae90>,\n",
       " <matplotlib.axes._subplots.AxesSubplot at 0x7f1c5daeae90>,\n",
       " <matplotlib.axes._subplots.AxesSubplot at 0x7f1c5daeae90>,\n",
       " <matplotlib.axes._subplots.AxesSubplot at 0x7f1c5daeae90>,\n",
       " <matplotlib.axes._subplots.AxesSubplot at 0x7f1c5daeae90>,\n",
       " <matplotlib.axes._subplots.AxesSubplot at 0x7f1c5daeae90>,\n",
       " <matplotlib.axes._subplots.AxesSubplot at 0x7f1c5daeae90>,\n",
       " <matplotlib.axes._subplots.AxesSubplot at 0x7f1c5daeae90>,\n",
       " <matplotlib.axes._subplots.AxesSubplot at 0x7f1c5daeae90>,\n",
       " <matplotlib.axes._subplots.AxesSubplot at 0x7f1c5daeae90>,\n",
       " <matplotlib.axes._subplots.AxesSubplot at 0x7f1c5daeae90>,\n",
       " <matplotlib.axes._subplots.AxesSubplot at 0x7f1c5daeae90>,\n",
       " <matplotlib.axes._subplots.AxesSubplot at 0x7f1c5daeae90>,\n",
       " <matplotlib.axes._subplots.AxesSubplot at 0x7f1c5daeae90>,\n",
       " <matplotlib.axes._subplots.AxesSubplot at 0x7f1c5daeae90>,\n",
       " <matplotlib.axes._subplots.AxesSubplot at 0x7f1c5daeae90>,\n",
       " <matplotlib.axes._subplots.AxesSubplot at 0x7f1c5daeae90>,\n",
       " <matplotlib.axes._subplots.AxesSubplot at 0x7f1c5daeae90>,\n",
       " <matplotlib.axes._subplots.AxesSubplot at 0x7f1c5daeae90>,\n",
       " <matplotlib.axes._subplots.AxesSubplot at 0x7f1c5daeae90>,\n",
       " <matplotlib.axes._subplots.AxesSubplot at 0x7f1c5daeae90>,\n",
       " <matplotlib.axes._subplots.AxesSubplot at 0x7f1c5daeae90>,\n",
       " <matplotlib.axes._subplots.AxesSubplot at 0x7f1c5daeae90>,\n",
       " <matplotlib.axes._subplots.AxesSubplot at 0x7f1c5daeae90>,\n",
       " <matplotlib.axes._subplots.AxesSubplot at 0x7f1c5daeae90>,\n",
       " <matplotlib.axes._subplots.AxesSubplot at 0x7f1c5daeae90>,\n",
       " <matplotlib.axes._subplots.AxesSubplot at 0x7f1c5daeae90>,\n",
       " <matplotlib.axes._subplots.AxesSubplot at 0x7f1c5daeae90>,\n",
       " <matplotlib.axes._subplots.AxesSubplot at 0x7f1c5daeae90>,\n",
       " <matplotlib.axes._subplots.AxesSubplot at 0x7f1c5daeae90>,\n",
       " <matplotlib.axes._subplots.AxesSubplot at 0x7f1c5daeae90>,\n",
       " <matplotlib.axes._subplots.AxesSubplot at 0x7f1c5daeae90>,\n",
       " <matplotlib.axes._subplots.AxesSubplot at 0x7f1c5daeae90>,\n",
       " <matplotlib.axes._subplots.AxesSubplot at 0x7f1c5daeae90>,\n",
       " <matplotlib.axes._subplots.AxesSubplot at 0x7f1c5daeae90>,\n",
       " <matplotlib.axes._subplots.AxesSubplot at 0x7f1c5daeae90>,\n",
       " <matplotlib.axes._subplots.AxesSubplot at 0x7f1c5daeae90>,\n",
       " <matplotlib.axes._subplots.AxesSubplot at 0x7f1c5daeae90>,\n",
       " <matplotlib.axes._subplots.AxesSubplot at 0x7f1c5daeae90>,\n",
       " <matplotlib.axes._subplots.AxesSubplot at 0x7f1c5daeae90>,\n",
       " <matplotlib.axes._subplots.AxesSubplot at 0x7f1c5daeae90>,\n",
       " <matplotlib.axes._subplots.AxesSubplot at 0x7f1c5daeae90>,\n",
       " <matplotlib.axes._subplots.AxesSubplot at 0x7f1c5daeae90>,\n",
       " <matplotlib.axes._subplots.AxesSubplot at 0x7f1c5daeae90>,\n",
       " <matplotlib.axes._subplots.AxesSubplot at 0x7f1c5daeae90>,\n",
       " <matplotlib.axes._subplots.AxesSubplot at 0x7f1c5daeae90>,\n",
       " <matplotlib.axes._subplots.AxesSubplot at 0x7f1c5daeae90>,\n",
       " <matplotlib.axes._subplots.AxesSubplot at 0x7f1c5daeae90>,\n",
       " <matplotlib.axes._subplots.AxesSubplot at 0x7f1c5daeae90>,\n",
       " <matplotlib.axes._subplots.AxesSubplot at 0x7f1c5daeae90>,\n",
       " <matplotlib.axes._subplots.AxesSubplot at 0x7f1c5daeae90>,\n",
       " <matplotlib.axes._subplots.AxesSubplot at 0x7f1c5daeae90>,\n",
       " <matplotlib.axes._subplots.AxesSubplot at 0x7f1c5daeae90>,\n",
       " <matplotlib.axes._subplots.AxesSubplot at 0x7f1c5daeae90>,\n",
       " <matplotlib.axes._subplots.AxesSubplot at 0x7f1c5daeae90>,\n",
       " <matplotlib.axes._subplots.AxesSubplot at 0x7f1c5daeae90>,\n",
       " <matplotlib.axes._subplots.AxesSubplot at 0x7f1c5daeae90>,\n",
       " <matplotlib.axes._subplots.AxesSubplot at 0x7f1c5daeae90>,\n",
       " <matplotlib.axes._subplots.AxesSubplot at 0x7f1c5daeae90>,\n",
       " <matplotlib.axes._subplots.AxesSubplot at 0x7f1c5daeae90>,\n",
       " <matplotlib.axes._subplots.AxesSubplot at 0x7f1c5daeae90>,\n",
       " <matplotlib.axes._subplots.AxesSubplot at 0x7f1c5daeae90>,\n",
       " <matplotlib.axes._subplots.AxesSubplot at 0x7f1c5daeae90>,\n",
       " <matplotlib.axes._subplots.AxesSubplot at 0x7f1c5daeae90>,\n",
       " <matplotlib.axes._subplots.AxesSubplot at 0x7f1c5daeae90>,\n",
       " <matplotlib.axes._subplots.AxesSubplot at 0x7f1c5daeae90>,\n",
       " <matplotlib.axes._subplots.AxesSubplot at 0x7f1c5daeae90>,\n",
       " <matplotlib.axes._subplots.AxesSubplot at 0x7f1c5daeae90>,\n",
       " <matplotlib.axes._subplots.AxesSubplot at 0x7f1c5daeae90>,\n",
       " <matplotlib.axes._subplots.AxesSubplot at 0x7f1c5daeae90>,\n",
       " <matplotlib.axes._subplots.AxesSubplot at 0x7f1c5daeae90>,\n",
       " <matplotlib.axes._subplots.AxesSubplot at 0x7f1c5daeae90>,\n",
       " <matplotlib.axes._subplots.AxesSubplot at 0x7f1c5daeae90>,\n",
       " <matplotlib.axes._subplots.AxesSubplot at 0x7f1c5daeae90>,\n",
       " <matplotlib.axes._subplots.AxesSubplot at 0x7f1c5daeae90>,\n",
       " <matplotlib.axes._subplots.AxesSubplot at 0x7f1c5daeae90>,\n",
       " <matplotlib.axes._subplots.AxesSubplot at 0x7f1c5daeae90>,\n",
       " <matplotlib.axes._subplots.AxesSubplot at 0x7f1c5daeae90>,\n",
       " <matplotlib.axes._subplots.AxesSubplot at 0x7f1c5daeae90>,\n",
       " <matplotlib.axes._subplots.AxesSubplot at 0x7f1c5daeae90>,\n",
       " <matplotlib.axes._subplots.AxesSubplot at 0x7f1c5daeae90>,\n",
       " <matplotlib.axes._subplots.AxesSubplot at 0x7f1c5daeae90>,\n",
       " <matplotlib.axes._subplots.AxesSubplot at 0x7f1c5daeae90>,\n",
       " <matplotlib.axes._subplots.AxesSubplot at 0x7f1c5daeae90>,\n",
       " <matplotlib.axes._subplots.AxesSubplot at 0x7f1c5daeae90>,\n",
       " <matplotlib.axes._subplots.AxesSubplot at 0x7f1c5daeae90>,\n",
       " <matplotlib.axes._subplots.AxesSubplot at 0x7f1c5daeae90>,\n",
       " <matplotlib.axes._subplots.AxesSubplot at 0x7f1c5daeae90>,\n",
       " <matplotlib.axes._subplots.AxesSubplot at 0x7f1c5daeae90>]"
      ]
     },
     "execution_count": 16,
     "metadata": {},
     "output_type": "execute_result"
    },
    {
     "data": {
      "image/png": "[encoded data removed]",
      "text/plain": [
       "<Figure size 432x288 with 1 Axes>"
      ]
     },
     "metadata": {},
     "output_type": "display_data"
    }
   ],
   "source": [
    "ax = nodes_by_id.sample(1000).plot(color='blue')\n",
    "[nodes_by_id.loc[l].plot(color='red', ax=ax) for l in singletons]"
   ]
  },
  {
   "cell_type": "code",
   "execution_count": 31,
   "metadata": {
    "scrolled": true
   },
   "outputs": [
    {
     "data": {
      "text/plain": [
       "{'dist': 0.11436198655596957,\n",
       " 'ix': 9285,\n",
       " 'speed': 25.0,\n",
       " 'weight': 0.274468767734327}"
      ]
     },
     "execution_count": 31,
     "metadata": {},
     "output_type": "execute_result"
    }
   ],
   "source": [
    "e0, e1 = g.edges()[0]\n",
    "g.edge[e0][e1]"
   ]
  },
  {
   "cell_type": "code",
   "execution_count": null,
   "metadata": {
    "collapsed": true
   },
   "outputs": [],
   "source": []
  },
  {
   "cell_type": "markdown",
   "metadata": {},
   "source": [
    "## Early loading code"
   ]
  },
  {
   "cell_type": "raw",
   "metadata": {},
   "source": [
    "manhattan_lines = gpd.sjoin(lion, manhattan)\n",
    "manhattan_lines.to_pickle('data/mn_lines.pkl')\n",
    "\n",
    "manhattan_lines.to_file('data/mn_lines.shp')\n",
    "\n",
    "del lion\n",
    "del lion_node"
   ]
  },
  {
   "cell_type": "raw",
   "metadata": {},
   "source": [
    "#lion = gpd.read_file(\"data/lion/lion.shp/lion.shp\")\n",
    "lion_node= gpd.read_file(\"data/lion/lion.shp/node.shp\")\n",
    "\n",
    "boroughs = gpd.read_file(\"data/nybb_18a/nybb.shp\")\n",
    "manhattan = boroughs[boroughs[\"BoroName\"] == \"Manhattan\"]\n",
    "\n",
    "manhattan_nodes = gpd.sjoin(lion_node, manhattan)\n",
    "\n",
    "manhattan_nodes.to_file(\"data/mn_nodes.shp\")"
   ]
  }
 ],
 "metadata": {
  "kernelspec": {
   "display_name": "Python 2",
   "language": "python",
   "name": "python2"
  },
  "language_info": {
   "codemirror_mode": {
    "name": "ipython",
    "version": 2
   },
   "file_extension": ".py",
   "mimetype": "text/x-python",
   "name": "python",
   "nbconvert_exporter": "python",
   "pygments_lexer": "ipython2",
   "version": "2.7.13"
  }
 },
 "nbformat": 4,
 "nbformat_minor": 2
}
