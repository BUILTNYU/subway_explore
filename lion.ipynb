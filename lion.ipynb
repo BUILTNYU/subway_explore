{
 "cells": [
  {
   "cell_type": "code",
   "execution_count": null,
   "metadata": {
    "collapsed": true
   },
   "outputs": [],
   "source": [
    "warnings=\"\"\"\n",
    "Warning 6: Normalized/laundered field name: 'SAFStreetName' to 'SAFStreetN'\n",
    "Warning 6: Normalized/laundered field name: 'SAFStreetCode' to 'SAFStreetC'\n",
    "Warning 6: Normalized/laundered field name: 'LATOMICPOLYGON' to 'LATOMICPOL'\n",
    "Warning 6: Normalized/laundered field name: 'RATOMICPOLYGON' to 'RATOMICPOL'\n",
    "Warning 6: Normalized/laundered field name: 'LBlockFaceID' to 'LBlockFace'\n",
    "Warning 6: Normalized/laundered field name: 'RBlockFaceID' to 'RBlockFace'\n",
    "Warning 6: Normalized/laundered field name: 'StreetWidth_Min' to 'StreetWidt'\n",
    "Warning 6: Normalized/laundered field name: 'StreetWidth_Max' to 'StreetWi_1'\n",
    "Warning 6: Normalized/laundered field name: 'StreetWidth_Irr' to 'StreetWi_2'\n",
    "Warning 6: Normalized/laundered field name: 'BIKE_TRAFDIR' to 'BIKE_TRAFD'\n",
    "Warning 6: Normalized/laundered field name: 'ACTIVE_FLAG' to 'ACTIVE_FLA'\n",
    "Warning 6: Normalized/laundered field name: 'POSTED_SPEED' to 'POSTED_SPE'\n",
    "Warning 6: Normalized/laundered field name: 'Snow_Priority' to 'Snow_Prior'\n",
    "Warning 6: Normalized/laundered field name: 'Number_Travel_Lanes' to 'Number_Tra'\n",
    "Warning 6: Normalized/laundered field name: 'Number_Park_Lanes' to 'Number_Par'\n",
    "Warning 6: Normalized/laundered field name: 'Number_Total_Lanes' to 'Number_Tot'\n",
    "Warning 6: Normalized/laundered field name: 'Carto_Display_Level' to 'Carto_Disp'\n",
    "Warning 6: Normalized/laundered field name: 'SHAPE_Length' to 'SHAPE_Leng'\n",
    "\"\"\".split(\"\\n\")\n",
    "import re\n",
    "froms_tos = [tuple(re.findall('\\w+', w.strip().split(\":\")[-1])[::2]) for w in warnings if w]"
   ]
  },
  {
   "cell_type": "code",
   "execution_count": null,
   "metadata": {
    "collapsed": true
   },
   "outputs": [],
   "source": [
    "import geopandas as gpd\n",
    "import geopy\n",
    "import geopy.distance\n",
    "import pandas as pd\n",
    "import matplotlib \n",
    "import networkx as nx\n",
    "import numpy as np\n",
    "%matplotlib inline\n",
    "pd.options.display.max_columns = None"
   ]
  },
  {
   "cell_type": "code",
   "execution_count": null,
   "metadata": {
    "collapsed": true
   },
   "outputs": [],
   "source": [
    "manhattan_lines = gpd.read_file(\"data/mn_lines.shp\").to_crs(epsg=4326)\n",
    "manhattan_nodes = gpd.read_file(\"data/mn_nodes.shp\").to_crs(epsg=4326)"
   ]
  },
  {
   "cell_type": "code",
   "execution_count": null,
   "metadata": {
    "collapsed": true
   },
   "outputs": [],
   "source": [
    "def uniform_str(x):\n",
    "    strd = str(x)\n",
    "    while len(strd) < 7:\n",
    "        strd = '0' + strd\n",
    "    return strd\n",
    "manhattan_nodes[\"ID_STR\"] = manhattan_nodes[\"NODEID\"].apply(uniform_str)"
   ]
  },
  {
   "cell_type": "code",
   "execution_count": null,
   "metadata": {
    "collapsed": true
   },
   "outputs": [],
   "source": [
    "all_nodes = gpd.read_file(\"data/lion/lion.shp/node.shp\").to_crs(epsg=4326)\n",
    "all_nodes[\"ID_STR\"] = all_nodes[\"NODEID\"].apply(uniform_str)\n",
    "all_nodes[all_nodes[\"ID_STR\"] == \"0048606\"]"
   ]
  },
  {
   "cell_type": "code",
   "execution_count": null,
   "metadata": {
    "collapsed": true
   },
   "outputs": [],
   "source": [
    "nodes_by_id = all_nodes.set_index(\"ID_STR\")"
   ]
  },
  {
   "cell_type": "code",
   "execution_count": null,
   "metadata": {
    "collapsed": true
   },
   "outputs": [],
   "source": [
    "manhattan_lines[\"BikeLane\"].unique()"
   ]
  },
  {
   "cell_type": "code",
   "execution_count": null,
   "metadata": {
    "collapsed": true
   },
   "outputs": [],
   "source": [
    "pd.DataFrame(line).swapaxes(1, 0)"
   ]
  },
  {
   "cell_type": "code",
   "execution_count": null,
   "metadata": {
    "collapsed": true
   },
   "outputs": [],
   "source": [
    "g = nx.DiGraph()\n",
    "errors = []\n",
    "\n",
    "def dist_func(u, v):\n",
    "    u_n = nodes_by_id.loc[u]\n",
    "    u_coord = (u_n.geometry.x, u_n.geometry.y)\n",
    "    v_n = nodes_by_id.loc[v]\n",
    "    v_coord = (v_n.geometry.x, v_n.geometry.y)\n",
    "    dist = geopy.distance.vincenty(u_coord, v_coord).miles\n",
    "    return dist\n",
    "\n",
    "def handle_line(ix, line, graph):\n",
    "    code = line[\"TrafDir\"]\n",
    "    if code not in {\"W\", \"A\", \"T\"}:\n",
    "        return\n",
    "    \n",
    "    u = line[\"NodeIDFrom\"]\n",
    "    v = line[\"NodeIDTo\"]\n",
    "    dist = dist_func(u, v)\n",
    "    try:\n",
    "        speed = float(line[\"POSTED_SPE\"])\n",
    "    except:\n",
    "        errors.append(line[\"Street\"])\n",
    "        speed = 25.\n",
    "    attrs = {\"dist\": dist, \"speed\": speed, \"weight\": dist * speed, \"ix\": ix}\n",
    "    if code == \"W\":\n",
    "        # from -> to\n",
    "        g.add_edge(u, v, attrs)\n",
    "    elif code == \"A\":\n",
    "        # to -> from\n",
    "        g.add_edge(v, u, attrs)\n",
    "    elif code == \"T\":\n",
    "        # to <-> from\n",
    "        g.add_edge(u, v, attrs)\n",
    "        g.add_edge(v, u, attrs)\n",
    "\n",
    "        \n",
    "for ix, line in manhattan_lines.iterrows():\n",
    "    handle_line(ix, line, g)"
   ]
  },
  {
   "cell_type": "code",
   "execution_count": null,
   "metadata": {
    "collapsed": true
   },
   "outputs": [],
   "source": [
    "f1 = manhattan_lines.iloc[0].NodeIDFrom\n",
    "f2 = manhattan_lines[manhattan_lines[\"Street\"].str.contains(\"FDR\")].iloc[0].NodeIDFrom\n",
    "path = nx.algorithms.shortest_path(g, f1, f2)\n",
    "path[0]\n",
    "f1 == path[0]"
   ]
  },
  {
   "cell_type": "code",
   "execution_count": null,
   "metadata": {
    "collapsed": true
   },
   "outputs": [],
   "source": [
    "ax = nodes_by_id.loc[[f1, f2]].plot(figsize=(16, 9))\n",
    "for thing in path:\n",
    "    nodes_by_id.loc[[thing]].plot(ax=ax)"
   ]
  },
  {
   "cell_type": "code",
   "execution_count": null,
   "metadata": {
    "collapsed": true
   },
   "outputs": [],
   "source": [
    "nx.write_gpickle(g, \"data/init_graph.pkl\")"
   ]
  },
  {
   "cell_type": "code",
   "execution_count": 8,
   "metadata": {},
   "outputs": [
    {
     "data": {
      "text/plain": [
       "{'dist': 0.13312192424624877,\n",
       " 'ix': 9285,\n",
       " 'speed': 25.0,\n",
       " 'weight': 3.3280481061562193}"
      ]
     },
     "execution_count": 8,
     "metadata": {},
     "output_type": "execute_result"
    }
   ],
   "source": [
    "import networkx as nx\n",
    "g = nx.read_gpickle(\"data/init_graph.pkl\")\n",
    "\n",
    "nx.algorithms.shortest_path(g, '9000428', '9000429')\n",
    "g.get_edge_data('9000428', '0021076')"
   ]
  },
  {
   "cell_type": "markdown",
   "metadata": {},
   "source": [
    "## Early loading code"
   ]
  },
  {
   "cell_type": "raw",
   "metadata": {},
   "source": [
    "manhattan_lines = gpd.sjoin(lion, manhattan)\n",
    "manhattan_lines.to_pickle('data/mn_lines.pkl')\n",
    "\n",
    "manhattan_lines.to_file('data/mn_lines.shp')\n",
    "\n",
    "del lion\n",
    "del lion_node"
   ]
  },
  {
   "cell_type": "raw",
   "metadata": {},
   "source": [
    "#lion = gpd.read_file(\"data/lion/lion.shp/lion.shp\")\n",
    "lion_node= gpd.read_file(\"data/lion/lion.shp/node.shp\")\n",
    "\n",
    "boroughs = gpd.read_file(\"data/nybb_18a/nybb.shp\")\n",
    "manhattan = boroughs[boroughs[\"BoroName\"] == \"Manhattan\"]\n",
    "\n",
    "manhattan_nodes = gpd.sjoin(lion_node, manhattan)\n",
    "\n",
    "manhattan_nodes.to_file(\"data/mn_nodes.shp\")"
   ]
  }
 ],
 "metadata": {
  "kernelspec": {
   "display_name": "Python 2",
   "language": "python",
   "name": "python2"
  },
  "language_info": {
   "codemirror_mode": {
    "name": "ipython",
    "version": 2
   },
   "file_extension": ".py",
   "mimetype": "text/x-python",
   "name": "python",
   "nbconvert_exporter": "python",
   "pygments_lexer": "ipython2",
   "version": "2.7.14"
  }
 },
 "nbformat": 4,
 "nbformat_minor": 2
}
