{
 "cells": [
  {
   "cell_type": "code",
   "execution_count": 1,
   "metadata": {},
   "outputs": [],
   "source": [
    "import pandas as pd\n",
    "import networkx as nx\n",
    "import geopandas as gpd\n",
    "import shapely.geometry\n",
    "\n",
    "import matplotlib\n",
    "%matplotlib inline\n",
    "\n",
    "import glob"
   ]
  },
  {
   "cell_type": "code",
   "execution_count": 2,
   "metadata": {},
   "outputs": [
    {
     "data": {
      "text/plain": [
       "'2.1'"
      ]
     },
     "execution_count": 2,
     "metadata": {},
     "output_type": "execute_result"
    }
   ],
   "source": [
    "nx.__version__"
   ]
  },
  {
   "cell_type": "code",
   "execution_count": 3,
   "metadata": {},
   "outputs": [],
   "source": [
    "files = glob.glob(\"data/taxi_clean/*_od_v2.pkl\")\n",
    "files = files[0:1]\n",
    "\n",
    "df = pd.concat(pd.read_pickle(f) for f in files)\n",
    "\n",
    "def uniform_str(x):\n",
    "    strd = str(x)\n",
    "    while len(strd) < 7:\n",
    "        strd = '0' + strd\n",
    "    return strd\n",
    "df[\"NODEID_O\"] = df[\"NODEID_O\"].apply(uniform_str)\n",
    "df[\"NODEID_D\"] = df[\"NODEID_D\"].apply(uniform_str)\n",
    "df[\"pickup_datetime\"] = pd.to_datetime(df[\"tpep_pickup_datetime\"])\n",
    "df[\"dropoff_datetime\"] = pd.to_datetime(df[\"tpep_dropoff_datetime\"])\n",
    "del df['tpep_dropoff_datetime']\n",
    "del df['tpep_pickup_datetime']\n",
    "\n",
    "mn_nodes = gpd.read_file(\"data/mn_nodes.shp\")\n",
    "init_graph = nx.read_gpickle(\"data/mn_subgraph.pkl\")"
   ]
  },
  {
   "cell_type": "code",
   "execution_count": 4,
   "metadata": {},
   "outputs": [],
   "source": [
    "def first_average(g):\n",
    "    travel_time = ((g[\"dropoff_datetime\"] - g[\"pickup_datetime\"]).mean().total_seconds() / 60.)\n",
    "    res = g.iloc[0]\n",
    "    res[\"tt_avg\"] = travel_time\n",
    "    res[\"n_trips\"] = len(g)\n",
    "    return res\n",
    "\n",
    "df = df.groupby([\"NODEID_O\", \"NODEID_D\"]).apply(first_average)\n",
    "del df[\"NODEID_O\"]\n",
    "del df[\"NODEID_D\"]\n",
    "df.reset_index(inplace=True)"
   ]
  },
  {
   "cell_type": "code",
   "execution_count": 7,
   "metadata": {},
   "outputs": [],
   "source": [
    "# first trip filtering\n",
    "df = df[(df[\"NODEID_O\"] != df[\"NODEID_D\"]) &\n",
    "        (df[\"tt_avg\"] > 120 / 60.) &\n",
    "        (df[\"tt_avg\"] < 3600 / 60.)].reset_index(drop=True)"
   ]
  },
  {
   "cell_type": "code",
   "execution_count": 8,
   "metadata": {},
   "outputs": [],
   "source": [
    "import numpy as np\n",
    "import toolz\n",
    "\n",
    "\n",
    "S_trip = None\n",
    "T_s = None\n",
    "O_s = None\n",
    "\n",
    "def trip_dist(trip):\n",
    "    try:\n",
    "        p = nx.algorithms.shortest_path(init_graph,\n",
    "                                    trip[\"NODEID_O\"], \n",
    "                                    trip[\"NODEID_D\"])\n",
    "    except Exception as e:\n",
    "        print e\n",
    "        print \"=================\".format(n1, n2)\n",
    "        return np.nan\n",
    "    edges = ((p[i], p[i+1]) for i in range(len(p) - 1))\n",
    "    street_dist = sum(init_graph.get_edge_data(*e)['dist'] for e in edges)\n",
    "    return street_dist\n",
    "\n",
    "@toolz.curry\n",
    "def trip_path(trip, graph=None):\n",
    "    \"\"\"\n",
    "    Compute trip time (in hours)\n",
    "    \"\"\"\n",
    "    global S_trip\n",
    "    global T_s\n",
    "    try:\n",
    "        p = nx.algorithms.shortest_path(graph,\n",
    "                                    trip[\"NODEID_O\"], \n",
    "                                    trip[\"NODEID_D\"])\n",
    "        edges = ((p[i], p[i+1]) for i in range(len(p) - 1))\n",
    "        for e in edges:\n",
    "            S_trip.add(e)\n",
    "            T_s[e].add(trip.name)\n",
    "\n",
    "    except Exception as e:\n",
    "        n1 = str(e).split(\" \")[-1][:-1]\n",
    "        n2 = str(e).split(\" \")[-3]\n",
    "        print \"error on nodes {}, {}\".format(n1, n2)\n",
    "        return np.nan\n",
    "    return \",\".join(p)\n",
    "\n",
    "bad = None\n",
    "\n",
    "@toolz.curry\n",
    "def trip_time(p,graph=None):\n",
    "    global bad\n",
    "    edges = ((p[i], p[i+1]) for i in range(len(p) - 1))\n",
    "    t = 0.\n",
    "    for e in edges:\n",
    "        try:\n",
    "            w = graph.get_edge_data(*e)['weight']\n",
    "        except Exception as q:\n",
    "            bad = p\n",
    "            raise q\n",
    "        t += w\n",
    "    return t"
   ]
  },
  {
   "cell_type": "code",
   "execution_count": 9,
   "metadata": {
    "scrolled": true
   },
   "outputs": [
    {
     "data": {
      "image/png": "[encoded data removed]",
      "text/plain": [
       "<matplotlib.figure.Figure at 0x7f9337bcd190>"
      ]
     },
     "metadata": {},
     "output_type": "display_data"
    }
   ],
   "source": [
    "# second trip filtering\n",
    "df[\"dist\"] = df.apply(trip_dist, axis=1)\n",
    "df.dropna(subset=[\"dist\"], inplace=True)\n",
    "df[\"speed\"] = df[\"dist\"] / (df[\"tt_avg\"] / 60.)\n",
    "df[\"speed\"].hist()\n",
    "df = df[(df[\"speed\"] > 1) & (df[\"speed\"] < 65)].reset_index(drop=True)"
   ]
  },
  {
   "cell_type": "code",
   "execution_count": 10,
   "metadata": {
    "scrolled": false
   },
   "outputs": [
    {
     "name": "stdout",
     "output_type": "stream",
     "text": [
      "rel_err sum is -201605.768732\n",
      "new_rel_err sum is -148906.792452\n",
      "rel_err sum is -149029.112257\n",
      "new_rel_err sum is -87434.481565\n",
      "rel_err sum is -87297.0023851\n",
      "new_rel_err sum is -29557.4325958\n",
      "rel_err sum is -29599.6897577\n",
      "new_rel_err sum is -22415.1549888\n",
      "rel_err sum is -22327.4062167\n",
      "new_rel_err sum is 20568.3027373\n",
      "rel_err sum is 20770.2478534\n",
      "new_rel_err sum is -6745.7851898\n",
      "rel_err sum is -6727.31332038\n",
      "new_rel_err sum is 31122.6401041\n",
      "k updated to 1.2\n",
      "new_rel_err sum is 20862.3298521\n",
      "k updated to 1.15\n",
      "new_rel_err sum is 13480.8473468\n",
      "k updated to 1.1125\n",
      "new_rel_err sum is 8140.03817596\n",
      "k updated to 1.084375\n",
      "new_rel_err sum is 4253.24881602\n",
      "rel_err sum is 4292.78590326\n",
      "new_rel_err sum is 11188.9970218\n",
      "k updated to 1.2\n",
      "new_rel_err sum is 8175.65353967\n",
      "k updated to 1.15\n",
      "new_rel_err sum is 6422.67036163\n",
      "k updated to 1.1125\n",
      "new_rel_err sum is 5423.54472926\n",
      "k updated to 1.084375\n",
      "new_rel_err sum is 4866.21118093\n",
      "k updated to 1.06328125\n",
      "new_rel_err sum is 4562.92334593\n",
      "k updated to 1.0474609375\n",
      "new_rel_err sum is 4403.02248357\n",
      "k updated to 1.03559570312\n",
      "new_rel_err sum is 4322.4564076\n",
      "k updated to 1.02669677734\n",
      "new_rel_err sum is 4284.7671632\n",
      "rel_err sum is 4262.65667629\n",
      "new_rel_err sum is 5229.74375508\n",
      "k updated to 1.2\n",
      "new_rel_err sum is 3610.88832545\n",
      "rel_err sum is 4084.90003559\n",
      "new_rel_err sum is 33843.8464333\n",
      "k updated to 1.2\n",
      "new_rel_err sum is 25454.3099286\n",
      "k updated to 1.15\n",
      "new_rel_err sum is 19535.6743668\n",
      "k updated to 1.1125\n",
      "new_rel_err sum is 15329.2038406\n",
      "k updated to 1.084375\n",
      "new_rel_err sum is 12315.8021498\n",
      "k updated to 1.06328125\n",
      "new_rel_err sum is 10140.2576235\n",
      "k updated to 1.0474609375\n",
      "new_rel_err sum is 8558.37329733\n",
      "k updated to 1.03559570312\n",
      "new_rel_err sum is 7400.95562099\n",
      "k updated to 1.02669677734\n",
      "new_rel_err sum is 6549.64110605\n",
      "k updated to 1.02002258301\n",
      "new_rel_err sum is 5920.76739505\n",
      "k updated to 1.01501693726\n",
      "new_rel_err sum is 5454.60148065\n",
      "k updated to 1.01126270294\n",
      "new_rel_err sum is 5108.10025809\n",
      "k updated to 1.00844702721\n",
      "new_rel_err sum is 4849.99630462\n",
      "k updated to 1.0063352704\n",
      "new_rel_err sum is 4657.42152822\n",
      "k updated to 1.0047514528\n",
      "new_rel_err sum is 4513.55748547\n",
      "k updated to 1.0035635896\n",
      "new_rel_err sum is 4405.97957826\n",
      "k updated to 1.0026726922\n",
      "new_rel_err sum is 4325.47671174\n",
      "k updated to 1.00200451915\n",
      "new_rel_err sum is 4265.20133796\n",
      "k updated to 1.00150338936\n",
      "new_rel_err sum is 4220.05214505\n",
      "k updated to 1.00112754202\n",
      "new_rel_err sum is 4186.22254001\n",
      "k updated to 1.00084565652\n",
      "new_rel_err sum is 4160.86851493\n",
      "k updated to 1.00063424239\n",
      "new_rel_err sum is 4141.86322831\n",
      "k updated to 1.00047568179\n",
      "new_rel_err sum is 4127.61502176\n",
      "k updated to 1.00035676134\n",
      "new_rel_err sum is 4116.93210714\n",
      "k updated to 1.00026757101\n",
      "new_rel_err sum is 4108.92174434\n",
      "k updated to 1.00020067826\n",
      "new_rel_err sum is 4102.91499799\n",
      "k updated to 1.00015050869\n",
      "new_rel_err sum is 4098.41051529\n",
      "k updated to 1.00011288152\n"
     ]
    },
    {
     "data": {
      "text/plain": [
       "<matplotlib.axes._subplots.AxesSubplot at 0x7f932a27b390>"
      ]
     },
     "execution_count": 10,
     "metadata": {},
     "output_type": "execute_result"
    },
    {
     "data": {
      "image/png": "[encoded data removed]",
      "text/plain": [
       "<matplotlib.figure.Figure at 0x7f932a27bb10>"
      ]
     },
     "metadata": {},
     "output_type": "display_data"
    }
   ],
   "source": [
    "from collections import defaultdict\n",
    "\n",
    "# iterative steps\n",
    "again = True\n",
    "done = False\n",
    "base_graph = init_graph.copy()\n",
    "while again:\n",
    "    tt = trip_time(graph=base_graph)\n",
    "    path = trip_path(graph=base_graph)\n",
    "    again = False\n",
    "    S_trip = set() # all touched streets\n",
    "    T_s = defaultdict(set) # basically trips_by_street\n",
    "    O_s = defaultdict(np.float64) # offset_by_street\n",
    "    df[\"path\"] = df.apply(path, axis=1).str.split(\",\")\n",
    "    df[\"et\"] = df[\"path\"].apply(tt)\n",
    "    df[\"rel_err\"] = (df[\"et\"] - df[\"tt_avg\"]) / df[\"tt_avg\"]\n",
    "    df[\"rel_err\"].hist() if not done else None\n",
    "    done = True\n",
    "    for street, trips in T_s.iteritems():\n",
    "        trips_df = df.loc[trips]\n",
    "        O_s[street] = ((trips_df[\"et\"] - trips_df[\"tt_avg\"]) * trips_df[\"n_trips\"]).sum()\n",
    "    k = 1.2\n",
    "    print \"rel_err sum is {}\".format(df[\"rel_err\"].sum())\n",
    "    while True:\n",
    "        g_c = base_graph.copy()\n",
    "        tt2 = trip_time(graph=g_c)\n",
    "        for street in S_trip:\n",
    "            a, b = street # street connects nodes a and b\n",
    "            e = base_graph.edges[street]\n",
    "            if O_s[street] < 0:\n",
    "                g_c[a][b]['weight'] = e[\"weight\"] * k\n",
    "            else:\n",
    "                g_c[a][b]['weight'] = e[\"weight\"] / k\n",
    "        df[\"et_new\"] = df[\"path\"].apply(tt2)\n",
    "        df[\"new_rel_err\"] = (df[\"et_new\"] - df[\"tt_avg\"]) / df[\"tt_avg\"]\n",
    "        print \"new_rel_err sum is {}\".format(df[\"new_rel_err\"].sum())\n",
    "        if np.abs(df[\"new_rel_err\"].sum()) < np.abs(df[\"rel_err\"].sum()):\n",
    "            df[\"et\"] = df[\"et_new\"]\n",
    "            df[\"rel_err\"] = df[\"new_rel_err\"]\n",
    "            again = True\n",
    "            base_graph = g_c\n",
    "            break\n",
    "        else:\n",
    "            print \"k updated to {}\".format(k)\n",
    "            k = 1 + (k - 1) * .75\n",
    "            if k < 1.0001:\n",
    "                break            \n",
    "                \n",
    "df[\"rel_err\"].hist()"
   ]
  },
  {
   "cell_type": "code",
   "execution_count": 12,
   "metadata": {},
   "outputs": [],
   "source": [
    "nx.write_gpickle(base_graph,\"data/base_graph_1st_pass_nx_{}.pkl\".format(nx.__version__))"
   ]
  },
  {
   "cell_type": "code",
   "execution_count": 11,
   "metadata": {},
   "outputs": [
    {
     "data": {
      "text/plain": [
       "<generator object all_pairs_dijkstra_path_length at 0x7f9331fb6c30>"
      ]
     },
     "execution_count": 11,
     "metadata": {},
     "output_type": "execute_result"
    }
   ],
   "source": [
    "import networkx as nx\n",
    "nx.algorithms.all_pairs_dijkstra_path_length(init_graph)"
   ]
  },
  {
   "cell_type": "code",
   "execution_count": null,
   "metadata": {},
   "outputs": [],
   "source": [
    "for e, attrs in base_graph:\n",
    "    "
   ]
  },
  {
   "cell_type": "code",
   "execution_count": 39,
   "metadata": {},
   "outputs": [],
   "source": [
    "final_graph = base_graph.copy()\n",
    "for e, attrs in final_graph.edges.iteritems():\n",
    "    attrs[\"speed\"] = attrs[\"weight\"] / attrs[\"dist\"]\n",
    "    "
   ]
  },
  {
   "cell_type": "code",
   "execution_count": 40,
   "metadata": {},
   "outputs": [
    {
     "data": {
      "text/plain": [
       "((u'9000428', u'0021076'),\n",
       " {'dist': 0.11436198655596957,\n",
       "  'ix': 9285,\n",
       "  'speed': 6.207146688449705,\n",
       "  'weight': 0.7098616261354163})"
      ]
     },
     "execution_count": 40,
     "metadata": {},
     "output_type": "execute_result"
    }
   ],
   "source": [
    "final_graph.edges.iteritems().next()"
   ]
  },
  {
   "cell_type": "code",
   "execution_count": 41,
   "metadata": {},
   "outputs": [],
   "source": [
    "S = set(final_graph.edges.iterkeys())\n",
    "ES = S\n",
    "NS = S - S_trip\n",
    "N_S = nodes_by_street = {s: set(final_graph.edges(s)) for s in S}\n",
    "n_s_i = n_by_street = sorted({s: len(N_S[s].intersection(S_trip)) for s in NS}.iteritems(), key=lambda x: x[1], reverse=True)\n",
    "\n",
    "for s, n in n_s_i:\n",
    "    if n == 0:\n",
    "        continue\n",
    "    intersecting_speeds = [final_graph.edges[(e1,e2)]['speed'] for e1, e2 in N_S[s].intersection(ES)]\n",
    "    final_e = final_graph.edges[s]\n",
    "    v_s_i = sum(intersecting_speeds) / float(n)\n",
    "    t_s_i = final_e[\"dist\"] / v_s_i\n",
    "    final_e[\"speed\"] = v_s_i\n",
    "    final_e[\"weight\"] = t_s_i\n",
    "    ES.add(s)\n",
    "    NS = NS - set([s])"
   ]
  },
  {
   "cell_type": "code",
   "execution_count": 42,
   "metadata": {},
   "outputs": [],
   "source": [
    "nx.write_gpickle(final_graph,\"data/final_graph_1st_pass_nx_{}.pkl\".format(nx.__version__))"
   ]
  },
  {
   "cell_type": "code",
   "execution_count": 23,
   "metadata": {},
   "outputs": [],
   "source": [
    "old = 9285\n",
    "thing = (u'9000428', u'0021076')\n",
    "base_graph.edges.iteritems().next()[1]['ix'] = 9285"
   ]
  },
  {
   "cell_type": "code",
   "execution_count": 24,
   "metadata": {},
   "outputs": [
    {
     "data": {
      "text/plain": [
       "((u'9000428', u'0021076'),\n",
       " {'dist': 0.11436198655596957,\n",
       "  'ix': 9285,\n",
       "  'speed': 25.0,\n",
       "  'weight': 0.7098616261354163})"
      ]
     },
     "execution_count": 24,
     "metadata": {},
     "output_type": "execute_result"
    }
   ],
   "source": [
    "base_graph.edges.iteritems().next()"
   ]
  },
  {
   "cell_type": "code",
   "execution_count": null,
   "metadata": {},
   "outputs": [],
   "source": [
    "S_trip.__iter__().next()"
   ]
  },
  {
   "cell_type": "code",
   "execution_count": null,
   "metadata": {},
   "outputs": [],
   "source": [
    "init_graph.edge[u'0066086']['0087506']['speed'] = 25.0"
   ]
  },
  {
   "cell_type": "code",
   "execution_count": null,
   "metadata": {},
   "outputs": [],
   "source": [
    "init_graph.edge[u'0066086']['0087506']"
   ]
  },
  {
   "cell_type": "code",
   "execution_count": null,
   "metadata": {},
   "outputs": [],
   "source": [
    ".0056284915 * 25"
   ]
  },
  {
   "cell_type": "code",
   "execution_count": null,
   "metadata": {},
   "outputs": [],
   "source": [
    "pd.__version__"
   ]
  },
  {
   "cell_type": "code",
   "execution_count": null,
   "metadata": {},
   "outputs": [],
   "source": [
    "import functools"
   ]
  },
  {
   "cell_type": "code",
   "execution_count": null,
   "metadata": {},
   "outputs": [],
   "source": [
    "import toolz"
   ]
  },
  {
   "cell_type": "code",
   "execution_count": null,
   "metadata": {},
   "outputs": [],
   "source": [
    "tt = toolz.curry(trip_time)"
   ]
  },
  {
   "cell_type": "code",
   "execution_count": null,
   "metadata": {},
   "outputs": [],
   "source": [
    "tt(3)"
   ]
  },
  {
   "cell_type": "code",
   "execution_count": 46,
   "metadata": {},
   "outputs": [
    {
     "data": {
      "text/plain": [
       "<matplotlib.axes._subplots.AxesSubplot at 0x7f933f2abad0>"
      ]
     },
     "execution_count": 46,
     "metadata": {},
     "output_type": "execute_result"
    },
    {
     "data": {
      "image/png": "[encoded data removed]",
      "text/plain": [
       "<matplotlib.figure.Figure at 0x7f938b9d25d0>"
      ]
     },
     "metadata": {},
     "output_type": "display_data"
    }
   ],
   "source": [
    "pd.Series(np.log(e[\"speed\"]) for _, e in final_graph.edges.iteritems()).hist()"
   ]
  },
  {
   "cell_type": "code",
   "execution_count": 48,
   "metadata": {},
   "outputs": [
    {
     "data": {
      "text/plain": [
       "148.41315910257657"
      ]
     },
     "execution_count": 48,
     "metadata": {},
     "output_type": "execute_result"
    }
   ],
   "source": [
    "np.e**5"
   ]
  },
  {
   "cell_type": "code",
   "execution_count": null,
   "metadata": {},
   "outputs": [],
   "source": []
  }
 ],
 "metadata": {
  "kernelspec": {
   "display_name": "Python 2",
   "language": "python",
   "name": "python2"
  },
  "language_info": {
   "codemirror_mode": {
    "name": "ipython",
    "version": 2
   },
   "file_extension": ".py",
   "mimetype": "text/x-python",
   "name": "python",
   "nbconvert_exporter": "python",
   "pygments_lexer": "ipython2",
   "version": "2.7.14"
  }
 },
 "nbformat": 4,
 "nbformat_minor": 2
}
