{
 "cells": [
  {
   "cell_type": "code",
   "execution_count": null,
   "metadata": {
    "collapsed": true
   },
   "outputs": [],
   "source": [
    "import pandas as pd\n",
    "import networkx as nx\n",
    "import geopandas as gpd\n",
    "import shapely.geometry\n",
    "\n",
    "import matplotlib\n",
    "%matplotlib inline\n",
    "\n",
    "import glob"
   ]
  },
  {
   "cell_type": "code",
   "execution_count": null,
   "metadata": {},
   "outputs": [],
   "source": [
    "files = glob.glob(\"data/taxi_clean/*_od.pkl\")\n",
    "files = files[0:1]\n",
    "\n",
    "df = pd.concat(pd.read_pickle(f) for f in files)\n",
    "df = df.sample(50000)\n",
    "\n",
    "def uniform_str(x):\n",
    "    strd = str(x)\n",
    "    while len(strd) < 7:\n",
    "        strd = '0' + strd\n",
    "    return strd\n",
    "df[\"NODEID_O\"] = df[\"NODEID_O\"].apply(uniform_str)\n",
    "df[\"NODEID_D\"] = df[\"NODEID_D\"].apply(uniform_str)\n",
    "df[\"pickup_datetime\"] = pd.to_datetime(df[\"tpep_pickup_datetime\"])\n",
    "df[\"dropoff_datetime\"] = pd.to_datetime(df[\"tpep_dropoff_datetime\"])\n",
    "del df['tpep_dropoff_datetime']\n",
    "del df['tpep_pickup_datetime']\n",
    "\n",
    "mn_nodes = gpd.read_file(\"data/mn_nodes.shp\")\n",
    "init_graph = nx.read_gpickle(\"data/init_graph.pkl\")"
   ]
  },
  {
   "cell_type": "code",
   "execution_count": null,
   "metadata": {},
   "outputs": [],
   "source": [
    "def first_average(g):\n",
    "    travel_time = ((g[\"dropoff_datetime\"] - g[\"pickup_datetime\"]).mean().total_seconds() / 60.)\n",
    "    res = g.iloc[0]\n",
    "    res[\"tt_avg\"] = travel_time\n",
    "    res[\"n_trips\"] = len(g)\n",
    "    return res\n",
    "\n",
    "df = df.groupby([\"NODEID_O\", \"NODEID_D\"]).apply(first_average)\n",
    "del df[\"NODEID_O\"]\n",
    "del df[\"NODEID_D\"]\n",
    "df.reset_index(inplace=True)"
   ]
  },
  {
   "cell_type": "code",
   "execution_count": null,
   "metadata": {
    "collapsed": true
   },
   "outputs": [],
   "source": [
    "# first trip filtering\n",
    "df = df[(df[\"NODEID_O\"] != df[\"NODEID_D\"]) &\n",
    "        (df[\"tt_avg\"] > 120 / 60.) &\n",
    "        (df[\"tt_avg\"] < 3600 / 60.)].reset_index(drop=True)"
   ]
  },
  {
   "cell_type": "code",
   "execution_count": null,
   "metadata": {
    "scrolled": true
   },
   "outputs": [],
   "source": [
    "import numpy as np\n",
    "import toolz\n",
    "\n",
    "\n",
    "S_trip = None\n",
    "T_s = None\n",
    "O_s = None\n",
    "\n",
    "def trip_dist(trip):\n",
    "    try:\n",
    "        p = nx.algorithms.shortest_path(init_graph,\n",
    "                                    trip[\"NODEID_O\"], \n",
    "                                    trip[\"NODEID_D\"])\n",
    "    except Exception as e:\n",
    "        n1 = str(e).split(\" \")[-1][:-1]\n",
    "        n2 = str(e).split(\" \")[-3]\n",
    "        print \"error on nodes {}, {}\".format(n1, n2)\n",
    "        return np.nan\n",
    "    edges = ((p[i], p[i+1]) for i in range(len(p) - 1))\n",
    "    street_dist = sum(init_graph.get_edge_data(*e)['dist'] for e in edges)\n",
    "    return street_dist\n",
    "\n",
    "@toolz.curry\n",
    "def trip_path(trip, graph=None):\n",
    "    \"\"\"\n",
    "    Compute trip time (in hours)\n",
    "    \"\"\"\n",
    "    global S_trip\n",
    "    global T_s\n",
    "    try:\n",
    "        p = nx.algorithms.shortest_path(graph,\n",
    "                                    trip[\"NODEID_O\"], \n",
    "                                    trip[\"NODEID_D\"])\n",
    "        edges = ((p[i], p[i+1]) for i in range(len(p) - 1))\n",
    "        for e in edges:\n",
    "            S_trip.add(e)\n",
    "            T_s[e].add(trip.name)\n",
    "\n",
    "    except Exception as e:\n",
    "        n1 = str(e).split(\" \")[-1][:-1]\n",
    "        n2 = str(e).split(\" \")[-3]\n",
    "        print \"error on nodes {}, {}\".format(n1, n2)\n",
    "        return np.nan\n",
    "    return \",\".join(p)\n",
    "\n",
    "@toolz.curry\n",
    "def trip_time(p,graph=None):\n",
    "    edges = ((p[i], p[i+1]) for i in range(len(p) - 1))\n",
    "    t = 0.\n",
    "    for e in edges:\n",
    "        w = graph.get_edge_data(*e)['weight']\n",
    "        t += w\n",
    "    return t\n",
    "\n",
    "# second trip filtering\n",
    "df[\"dist\"] = df.apply(trip_dist, axis=1)\n",
    "df.dropna(subset=[\"dist\"], inplace=True)\n",
    "df[\"speed\"] = df[\"dist\"] / (df[\"tt_avg\"] / 60.)\n",
    "df[\"speed\"].hist()\n",
    "df = df[(df[\"speed\"] > 1) & (df[\"speed\"] < 65)].reset_index(drop=True)\n"
   ]
  },
  {
   "cell_type": "code",
   "execution_count": null,
   "metadata": {
    "scrolled": true
   },
   "outputs": [],
   "source": [
    "from collections import defaultdict\n",
    "\n",
    "# iterative steps\n",
    "again = True\n",
    "done = False\n",
    "base_graph = init_graph.copy()\n",
    "while again:\n",
    "    tt = trip_time(graph=base_graph)\n",
    "    paths\n",
    "    again = False\n",
    "    S_trip = set() # all touched streets\n",
    "    T_s = defaultdict(set) # basically trips_by_street\n",
    "    O_s = defaultdict(np.float64) # offset_by_street\n",
    "    df[\"et\"] = df[\"path\"].apply(tt)\n",
    "    df[\"rel_err\"] = (df[\"et\"] - df[\"tt_avg\"]) / df[\"tt_avg\"]\n",
    "    df[\"rel_err\"].hist() if not done else None\n",
    "    done = True\n",
    "    for street, trips in T_s.iteritems():\n",
    "        trips_df = df.loc[trips]\n",
    "        O_s[street] = ((trips_df[\"et\"] - trips_df[\"tt_avg\"]) * trips_df[\"n_trips\"]).sum()\n",
    "    k = 1.2\n",
    "    print \"rel_err sum is {}\".format(df[\"rel_err\"].sum())\n",
    "    while True:\n",
    "        g_c = base_graph.copy()\n",
    "        tt2 = trip_time(graph=g_c)\n",
    "        for street in S_trip:\n",
    "            a, b = street # street connects nodes a and b\n",
    "            e = init_graph.edge[a][b]\n",
    "            if O_s[street] < 0:\n",
    "                g_c[a][b]['weight'] = e[\"weight\"] * k\n",
    "            else:\n",
    "                g_c[a][b]['weight'] = e[\"weight\"] / k\n",
    "        df[\"et_new\"] = df[\"path\"].apply(tt2)\n",
    "        df[\"new_rel_err\"] = (df[\"et_new\"] - df[\"tt_avg\"]) / df[\"tt_avg\"]\n",
    "        print \"new_rel_err sum is {}\".format(df[\"new_rel_err\"].sum())\n",
    "        if np.abs(df[\"new_rel_err\"].sum()) < np.abs(df[\"rel_err\"].sum()):\n",
    "            df[\"et\"] = df[\"et_new\"]\n",
    "            df[\"rel_err\"] = df[\"new_rel_err\"]\n",
    "            again = True\n",
    "            base_graph = g_c\n",
    "            break\n",
    "        else:\n",
    "            print \"k updated to {}\".format(k)\n",
    "            k = 1 + (k - 1) * .75\n",
    "            if k < 1.0001:\n",
    "                break            \n",
    "                \n",
    "df[\"rel_err\"].hist()"
   ]
  },
  {
   "cell_type": "code",
   "execution_count": null,
   "metadata": {},
   "outputs": [],
   "source": [
    "import networkx as nx\n",
    "nx.algorithms.all_pairs_dijkstra_path_length(init_graph)"
   ]
  },
  {
   "cell_type": "code",
   "execution_count": null,
   "metadata": {
    "collapsed": true
   },
   "outputs": [],
   "source": [
    "S = set(g.edges_iter())\n",
    "ES = S\n",
    "NS = S - S_trip\n",
    "N_S = nodes_by_street = {s: set(g.edges(s)) for s in S}\n",
    "n_s_i = n_by_street = sorted({s: len(N_S[s].intersect(S_trip)) for s in NS}.iteritems(), key=lambda x: x[1], reverse=True)\n",
    "\n",
    "for s, n in n_s_i:\n",
    "    intersecting_weights = [g.edge[e1][e2]['weight'] for e1, e2 in N_S[s].intersect(ES)]\n",
    "    v_s_i = sum(intersecting_weights) / float(n)\n",
    "    ES.add(s)\n",
    "    NS = NS - s"
   ]
  },
  {
   "cell_type": "code",
   "execution_count": null,
   "metadata": {},
   "outputs": [],
   "source": [
    "T_s[(u'0043417', u'9048165')]"
   ]
  },
  {
   "cell_type": "code",
   "execution_count": null,
   "metadata": {},
   "outputs": [],
   "source": [
    "S_trip.__iter__().next()"
   ]
  },
  {
   "cell_type": "code",
   "execution_count": null,
   "metadata": {},
   "outputs": [],
   "source": [
    "init_graph.edge[u'0066086']['0087506']['speed'] = 25.0"
   ]
  },
  {
   "cell_type": "code",
   "execution_count": null,
   "metadata": {},
   "outputs": [],
   "source": [
    "init_graph.edge[u'0066086']['0087506']"
   ]
  },
  {
   "cell_type": "code",
   "execution_count": null,
   "metadata": {},
   "outputs": [],
   "source": [
    ".0056284915 * 25"
   ]
  },
  {
   "cell_type": "code",
   "execution_count": null,
   "metadata": {},
   "outputs": [],
   "source": [
    "pd.__version__"
   ]
  },
  {
   "cell_type": "code",
   "execution_count": null,
   "metadata": {
    "collapsed": true
   },
   "outputs": [],
   "source": [
    "import functools"
   ]
  },
  {
   "cell_type": "code",
   "execution_count": null,
   "metadata": {
    "collapsed": true
   },
   "outputs": [],
   "source": [
    "import toolz"
   ]
  },
  {
   "cell_type": "code",
   "execution_count": null,
   "metadata": {
    "collapsed": true
   },
   "outputs": [],
   "source": [
    "tt = toolz.curry(trip_time)"
   ]
  },
  {
   "cell_type": "code",
   "execution_count": null,
   "metadata": {},
   "outputs": [],
   "source": [
    "tt(3)"
   ]
  },
  {
   "cell_type": "code",
   "execution_count": null,
   "metadata": {
    "collapsed": true
   },
   "outputs": [],
   "source": []
  }
 ],
 "metadata": {
  "kernelspec": {
   "display_name": "Python 2",
   "language": "python",
   "name": "python2"
  },
  "language_info": {
   "codemirror_mode": {
    "name": "ipython",
    "version": 2
   },
   "file_extension": ".py",
   "mimetype": "text/x-python",
   "name": "python",
   "nbconvert_exporter": "python",
   "pygments_lexer": "ipython2",
   "version": "2.7.13"
  }
 },
 "nbformat": 4,
 "nbformat_minor": 2
}
