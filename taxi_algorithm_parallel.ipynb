{
 "cells": [
  {
   "cell_type": "code",
   "execution_count": null,
   "metadata": {},
   "outputs": [],
   "source": [
    "import pandas as pd\n",
    "import networkx as nx\n",
    "import geopandas as gpd\n",
    "import shapely.geometry\n",
    "\n",
    "import matplotlib\n",
    "%matplotlib inline\n",
    "\n",
    "import glob"
   ]
  },
  {
   "cell_type": "code",
   "execution_count": null,
   "metadata": {},
   "outputs": [],
   "source": [
    "nx.__version__"
   ]
  },
  {
   "cell_type": "code",
   "execution_count": null,
   "metadata": {},
   "outputs": [],
   "source": [
    "HOUR = 4\n",
    "df = pd.read_pickle(\"data/taxi_clean/FINAL_HR_{}.pkl\".format(HOUR))\n",
    "print(\"Hour {} has {} trips\".format(HOUR, len(df)))"
   ]
  },
  {
   "cell_type": "code",
   "execution_count": null,
   "metadata": {},
   "outputs": [],
   "source": [
    "def uniform_str(x):\n",
    "    strd = str(x)\n",
    "    while len(strd) < 7:\n",
    "        strd = '0' + strd\n",
    "    return strd\n",
    "df[\"NODEID_O\"] = df[\"NODEID_O\"].apply(uniform_str)\n",
    "df[\"NODEID_D\"] = df[\"NODEID_D\"].apply(uniform_str)\n",
    "df[\"pickup_datetime\"] = pd.to_datetime(df[\"tpep_pickup_datetime\"])\n",
    "df[\"dropoff_datetime\"] = pd.to_datetime(df[\"tpep_dropoff_datetime\"])\n",
    "del df['tpep_dropoff_datetime']\n",
    "del df['tpep_pickup_datetime']\n",
    "\n",
    "mn_nodes = gpd.read_file(\"data/mn_nodes.shp\")\n",
    "init_graph = nx.read_gpickle(\"data/final_graph_1st_pass_nx_2.1.pkl\")\n",
    "for a, b in init_graph.edges.items():\n",
    "    b['speed'] = 25.\n",
    "    b['weight'] = (b['dist'] / b['speed']) * 3600"
   ]
  },
  {
   "cell_type": "code",
   "execution_count": null,
   "metadata": {},
   "outputs": [],
   "source": [
    "import numpy as np\n",
    "from itertools import chain\n",
    "from collections import OrderedDict\n",
    "                    \n",
    "def first_average(g):\n",
    "    travel_time = ((g[\"dropoff_datetime\"] - g[\"pickup_datetime\"]).mean()).total_seconds()\n",
    "    res = g.iloc[0]\n",
    "    res[\"tt_avg\"] = travel_time\n",
    "    res[\"n_trips\"] = len(g)\n",
    "    return res\n"
   ]
  },
  {
   "cell_type": "code",
   "execution_count": null,
   "metadata": {
    "scrolled": true
   },
   "outputs": [],
   "source": [
    "import dask.dataframe as dd\n",
    "from dask.multiprocessing import get\n",
    "from dask.diagnostics import ProgressBar\n",
    "ddata = dd.from_pandas(df, npartitions=30)\n",
    "averaged = ddata.groupby([\"NODEID_O\", \"NODEID_D\"])\\\n",
    "           .apply(first_average)\\\n",
    "           .reset_index(drop=True)\n",
    "#averaged = averaged.reset_index()\n",
    "\n",
    "# first trip filtering - > 2 mins, < 1 hour\n",
    "first_filtered = averaged[(averaged[\"NODEID_O\"] != averaged[\"NODEID_D\"]) &\n",
    "        (averaged[\"tt_avg\"] > 120) &\n",
    "        (averaged[\"tt_avg\"] < 3600)].reset_index(drop=True)\n",
    "\n",
    "with ProgressBar():\n",
    "    fa = first_filtered.compute(get=get)\n",
    "\n",
    "fa[\"NODEID_O\"] = fa[\"NODEID_O\"].apply(uniform_str)\n",
    "fa[\"NODEID_D\"] = fa[\"NODEID_D\"].apply(uniform_str)"
   ]
  },
  {
   "cell_type": "code",
   "execution_count": null,
   "metadata": {},
   "outputs": [],
   "source": [
    "import numpy as np\n",
    "import toolz\n",
    "\n",
    "\n",
    "S_trip = None\n",
    "T_s = None\n",
    "O_s = None\n",
    "\n",
    "def trip_dist(trip):\n",
    "    try:\n",
    "        p = nx.algorithms.shortest_path(init_graph,\n",
    "                                    trip[\"NODEID_O\"], \n",
    "                                    trip[\"NODEID_D\"])\n",
    "    except Exception as e:\n",
    "        return np.nan\n",
    "    edges = ((p[i], p[i+1]) for i in range(len(p) - 1))\n",
    "    street_dist = sum(init_graph.get_edge_data(*e)['dist'] for e in edges)\n",
    "    return street_dist\n",
    "\n",
    "@toolz.curry\n",
    "def trip_path(trip, graph=None):\n",
    "\n",
    "    try:\n",
    "        p = nx.algorithms.shortest_path(graph,\n",
    "                                    trip[\"NODEID_O\"], \n",
    "                                    trip[\"NODEID_D\"])\n",
    "        edges = ((p[i], p[i+1]) for i in range(len(p) - 1))\n",
    "    except Exception as e:\n",
    "        return np.nan\n",
    "    return \",\".join(p)\n",
    "\n",
    "\n",
    "@toolz.curry\n",
    "def trip_time(p,graph=None):\n",
    "    p = p.split(\",\")\n",
    "    edges = ((p[i], p[i+1]) for i in range(len(p) - 1))\n",
    "    t = 0.\n",
    "    for e in edges:\n",
    "        try:\n",
    "            w = graph.get_edge_data(*e)['weight']\n",
    "        except Exception as q:\n",
    "            bad = p\n",
    "            raise q\n",
    "        t += w\n",
    "    return t"
   ]
  },
  {
   "cell_type": "code",
   "execution_count": null,
   "metadata": {},
   "outputs": [],
   "source": [
    "import matplotlib.pyplot as plt\n",
    "dfa = dd.from_pandas(fa, npartitions=30)\n",
    "# second trip filtering\n",
    "dfa[\"dist\"] = dfa.apply(trip_dist, axis=1, \n",
    "                        meta=(\"dist\", \"f8\"))\n",
    "dfa = dfa.dropna(subset=[\"dist\"])\n",
    "dfa[\"speed\"] = dfa[\"dist\"] / (dfa[\"tt_avg\"])\n",
    "dfa = dfa[((dfa[\"speed\"] * 3600.) > 1)\\\n",
    "                    & (dfa[\"speed\"] < (65 / (3600.)))]\\\n",
    "            .reset_index(drop=True)\n",
    "\n",
    "with ProgressBar():\n",
    "    sa = dfa.compute(get=get)\n"
   ]
  },
  {
   "cell_type": "code",
   "execution_count": null,
   "metadata": {},
   "outputs": [],
   "source": [
    "from collections import defaultdict\n",
    "from datetime import datetime\n",
    "\n",
    "# iterative steps\n",
    "again = True\n",
    "done = False\n",
    "base_graph = init_graph.copy()\n",
    "dp = sa\n",
    "\n",
    "while again:\n",
    "    tt = trip_time(graph=base_graph)\n",
    "    path = trip_path(graph=base_graph)\n",
    "    again = False\n",
    "    S_trip = set() # all touched streets\n",
    "    T_s = defaultdict(set) # basically trips_by_street\n",
    "    O_s = defaultdict(np.float64) # offset_by_street\n",
    "    dsa = dd.from_pandas(dp, npartitions=30)\n",
    "    dsa[\"path\"] = dsa.apply(path, axis=1, meta=(\"path\", \"O\"))\n",
    "    dsa[\"et\"] = dsa[\"path\"].apply(tt, meta=(\"tt\", \"f8\"))\n",
    "    dsa[\"rel_err\"] = (dsa[\"et\"] - dsa[\"tt_avg\"]) / dsa[\"tt_avg\"]\n",
    "    dsa[\"offset\"] = ((dsa[\"et\"] - dsa[\"tt_avg\"]) * dsa[\"n_trips\"])\n",
    "    with ProgressBar():\n",
    "        dp = dsa.compute(get=get)\n",
    "        \n",
    "    print(\"time is {}\".format(datetime.now()))\n",
    "    for name, p in zip(dp.index, dp[\"path\"].str.split(\",\")):\n",
    "        edges = zip(p, p[1:])\n",
    "        for e in edges:\n",
    "            T_s[e].add(name)\n",
    "            S_trip.add(e)\n",
    "        \n",
    "    print(\"time is {}\".format(datetime.now()))\n",
    "    print(\"Sets computed\")\n",
    "    for street, trips in T_s.items():\n",
    "        trips_df = dp.loc[trips]\n",
    "        O_s[street] = (trips_df[\"offset\"]).sum()\n",
    "    print(\"time is {}\".format(datetime.now()))\n",
    "    k = 1.2\n",
    "    print(\"rel_err sum is {}\".format(np.abs(dp[\"rel_err\"]).sum()))\n",
    "    while True:\n",
    "        g_c = base_graph.copy()\n",
    "        tt2 = trip_time(graph=g_c)\n",
    "        for street in S_trip:\n",
    "            a, b = street # street connects nodes a and b\n",
    "            e = base_graph.edges[street]\n",
    "            if O_s[street] < 0:\n",
    "                g_c[a][b]['weight'] = e[\"weight\"] * k\n",
    "            else:\n",
    "                g_c[a][b]['weight'] = e[\"weight\"] / k\n",
    "        dp[\"et_new\"] = dp[\"path\"].apply(tt2)\n",
    "        dp[\"new_rel_err\"] = (dp[\"et_new\"] - dp[\"tt_avg\"]) / dp[\"tt_avg\"]\n",
    "        print(\"new_rel_err sum is {}\".format(np.abs(dp[\"new_rel_err\"]).sum()))\n",
    "        if np.abs(dp[\"new_rel_err\"]).sum() < np.abs(dp[\"rel_err\"]).sum():\n",
    "            dp[\"et\"] = dp[\"et_new\"]\n",
    "            dp[\"rel_err\"] = dp[\"new_rel_err\"]\n",
    "            again = True\n",
    "            base_graph = g_c\n",
    "            break\n",
    "        else:\n",
    "            print(\"k updated to {}\".format(k))\n",
    "            k = 1 + (k - 1) * .75\n",
    "            if k < 1.0001:\n",
    "                break   "
   ]
  },
  {
   "cell_type": "code",
   "execution_count": null,
   "metadata": {},
   "outputs": [],
   "source": [
    "nx.write_gpickle(base_graph,\"data/taxi_graphs/base_graph_hour_{}.pkl\".format(HOUR))"
   ]
  },
  {
   "cell_type": "code",
   "execution_count": null,
   "metadata": {},
   "outputs": [],
   "source": [
    "for e, info in base_graph.edges.items():\n",
    "    print(info)\n",
    "    print(\"speed is {}\".format(info['dist'] / (info['weight'] / 3600.)))\n",
    "    break"
   ]
  },
  {
   "cell_type": "code",
   "execution_count": null,
   "metadata": {},
   "outputs": [],
   "source": [
    "speeds = pd.Series([info[\"dist\"] / (info['weight'] / 3600.) for info in final_graph.edges.values()])\n",
    "speeds.hist()"
   ]
  },
  {
   "cell_type": "code",
   "execution_count": null,
   "metadata": {},
   "outputs": [],
   "source": [
    "final_graph = base_graph.copy()\n",
    "for e, attrs in final_graph.edges.items():\n",
    "    attrs[\"speed\"] = attrs[\"dist\"] / attrs[\"weight\"]"
   ]
  },
  {
   "cell_type": "code",
   "execution_count": null,
   "metadata": {},
   "outputs": [],
   "source": [
    "S = set(final_graph.edges.keys())\n",
    "ES = S_trip\n",
    "NS = S - S_trip\n",
    "N_S = nodes_by_street = {s: set(final_graph.edges(s)) for s in S}\n",
    "n_s_i = n_by_street = sorted({s: len(N_S[s].intersection(S_trip)) for s in NS}.items(), \n",
    "                             key=lambda x: x[1], reverse=True)\n",
    "n_s_i[0]"
   ]
  },
  {
   "cell_type": "code",
   "execution_count": null,
   "metadata": {},
   "outputs": [],
   "source": [
    "for s, n in n_s_i:\n",
    "    if n == 0:\n",
    "        continue\n",
    "    intersecting_speeds = [final_graph.edges[(e1,e2)]['speed'] for e1, e2 in N_S[s].intersection(S_trip)]\n",
    "    final_e = final_graph.edges[s]\n",
    "    v_s_i = sum(intersecting_speeds) / len(intersecting_speeds)\n",
    "    t_s_i = final_e[\"dist\"] / v_s_i\n",
    "    final_e[\"speed\"] = v_s_i\n",
    "    final_e[\"weight\"] = t_s_i\n",
    "    ES.add(s)\n",
    "    NS = NS - set([s])"
   ]
  },
  {
   "cell_type": "code",
   "execution_count": null,
   "metadata": {},
   "outputs": [],
   "source": [
    "nx.write_gpickle(final_graph, \"data/taxi_graphs/final_graph_hour_{}.pkl\".format(HOUR))"
   ]
  },
  {
   "cell_type": "code",
   "execution_count": null,
   "metadata": {},
   "outputs": [],
   "source": [
    "speeds = [(thing['ix'], thing['speed'] * 3600) for _, thing in final_graph.edges.items()]\n",
    "speeds = pd.Series((s[1] for s in speeds), index=(s[0] for s in speeds))\n",
    "speeds.name='speed'"
   ]
  },
  {
   "cell_type": "code",
   "execution_count": null,
   "metadata": {},
   "outputs": [],
   "source": [
    "import geopandas as gpd\n",
    "mn_lines = gpd.read_file(\"data/mn_lines.shp\")"
   ]
  },
  {
   "cell_type": "code",
   "execution_count": null,
   "metadata": {},
   "outputs": [],
   "source": [
    "mn_speed_cols = mn_lines.loc[speeds.index]\n",
    "mn_speed_cols[\"speed\"] = speeds"
   ]
  },
  {
   "cell_type": "code",
   "execution_count": null,
   "metadata": {},
   "outputs": [],
   "source": [
    "mn_speed_cols.plot(\"speed\", figsize=(16, 40))"
   ]
  },
  {
   "cell_type": "code",
   "execution_count": null,
   "metadata": {},
   "outputs": [],
   "source": [
    "mn_lines._geometry_array"
   ]
  },
  {
   "cell_type": "code",
   "execution_count": null,
   "metadata": {},
   "outputs": [],
   "source": []
  }
 ],
 "metadata": {
  "kernelspec": {
   "display_name": "Python 3",
   "language": "python",
   "name": "python3"
  },
  "language_info": {
   "codemirror_mode": {
    "name": "ipython",
    "version": 3
   },
   "file_extension": ".py",
   "mimetype": "text/x-python",
   "name": "python",
   "nbconvert_exporter": "python",
   "pygments_lexer": "ipython3",
   "version": "3.6.5"
  }
 },
 "nbformat": 4,
 "nbformat_minor": 2
}
